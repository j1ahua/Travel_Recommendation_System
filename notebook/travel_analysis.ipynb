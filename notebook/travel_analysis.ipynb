{
 "cells": [
  {
   "cell_type": "markdown",
   "metadata": {},
   "source": [
    "# Travel Destination Analysis & Recommendation System"
   ]
  },
  {
   "cell_type": "markdown",
   "metadata": {},
   "source": [
    "# Imports"
   ]
  },
  {
   "cell_type": "code",
   "execution_count": 1,
   "metadata": {},
   "outputs": [],
   "source": [
    "import pandas as pd\n",
    "import matplotlib.pyplot as plt \n",
    "import csv\n",
    "from sklearn.metrics.pairwise import cosine_similarity\n",
    "from sklearn.feature_extraction.text import TfidfVectorizer\n",
    "import seaborn as sns"
   ]
  },
  {
   "cell_type": "markdown",
   "metadata": {},
   "source": [
    "# Load and clean data"
   ]
  },
  {
   "cell_type": "code",
   "execution_count": 7,
   "metadata": {},
   "outputs": [],
   "source": [
    "csv_path = \"../data/destinations_cleaned.csv\"\n",
    "df = pd.read_csv(csv_path, encoding='utf-8')\n"
   ]
  },
  {
   "cell_type": "markdown",
   "metadata": {},
   "source": [
    "# Replace missing or empty descriptions"
   ]
  },
  {
   "cell_type": "code",
   "execution_count": 8,
   "metadata": {},
   "outputs": [],
   "source": [
    "df[\"Description\"] = df[\"Description\"].fillna(\"\").replace(r\"^\\s*$\", \"Description not found.\", regex=True)\n",
    "df[\"Description\"] = df[\"Description\"].apply(lambda x: x if isinstance(x, str) else \"Description not found.\")"
   ]
  },
  {
   "cell_type": "markdown",
   "metadata": {},
   "source": [
    "# Clean approximate annual tourists column"
   ]
  },
  {
   "cell_type": "code",
   "execution_count": 9,
   "metadata": {},
   "outputs": [],
   "source": [
    "def parse_tourist_count(value):\n",
    "    if isinstance(value, (int, float)):\n",
    "        return value\n",
    "    if pd.isna(value):\n",
    "        return None\n",
    "    s = str(value).lower().strip().replace(',', '')\n",
    "    if \"million\" in s:\n",
    "        s = s.replace(\"million\", \"\").strip()\n",
    "        if '-' in s:\n",
    "            parts = s.split('-')\n",
    "            try:\n",
    "                nums = [float(part.strip()) for part in parts if part.strip()]\n",
    "                return sum(nums) / len(nums)\n",
    "            except ValueError:\n",
    "                return None\n",
    "        else:\n",
    "            try:\n",
    "                return float(s)\n",
    "            except ValueError:\n",
    "                return None\n",
    "    else:\n",
    "        if '-' in s:\n",
    "            parts = s.split('-')\n",
    "            try:\n",
    "                nums = [float(part.strip()) for part in parts if part.strip()]\n",
    "                raw = sum(nums) / len(nums)\n",
    "            except ValueError:\n",
    "                return None\n",
    "        else:\n",
    "            try:\n",
    "                raw = float(s)\n",
    "            except ValueError:\n",
    "                return None\n",
    "        return raw / 1e6\n",
    "\n",
    "if \"Approximate Annual Tourists\" in df.columns:\n",
    "    df[\"Approximate Annual Tourists(million)\"] = df[\"Approximate Annual Tourists\"].apply(parse_tourist_count)"
   ]
  },
  {
   "cell_type": "markdown",
   "metadata": {},
   "source": [
    "# EDA: Tourist Distribution by Country"
   ]
  }
 ],
 "metadata": {
  "kernelspec": {
   "display_name": ".venv",
   "language": "python",
   "name": "python3"
  },
  "language_info": {
   "codemirror_mode": {
    "name": "ipython",
    "version": 3
   },
   "file_extension": ".py",
   "mimetype": "text/x-python",
   "name": "python",
   "nbconvert_exporter": "python",
   "pygments_lexer": "ipython3",
   "version": "3.11.5"
  }
 },
 "nbformat": 4,
 "nbformat_minor": 2
}
